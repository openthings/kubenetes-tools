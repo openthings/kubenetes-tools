{
 "cells": [
  {
   "cell_type": "code",
   "execution_count": 1,
   "metadata": {},
   "outputs": [
    {
     "name": "stdout",
     "output_type": "stream",
     "text": [
      "NAME        STATUS   ROLES                  AGE    VERSION   INTERNAL-IP       EXTERNAL-IP   OS-IMAGE             KERNEL-VERSION     CONTAINER-RUNTIME\n",
      "openbox00   Ready    control-plane,master   221d   v1.20.2   192.168.199.173   <none>        Ubuntu 20.04.2 LTS   5.4.0-52-generic   docker://19.3.13\n",
      "openbox01   Ready    control-plane,master   221d   v1.20.2   192.168.199.180   <none>        Ubuntu 20.04.2 LTS   5.4.0-65-generic   docker://19.3.8\n",
      "openbox02   Ready    control-plane,master   221d   v1.20.2   192.168.199.249   <none>        Ubuntu 20.04 LTS     5.4.0-26-generic   docker://19.3.13\n"
     ]
    }
   ],
   "source": [
    "!kubectl get node -owide"
   ]
  },
  {
   "cell_type": "code",
   "execution_count": null,
   "metadata": {},
   "outputs": [],
   "source": [
    "!docker images"
   ]
  },
  {
   "cell_type": "code",
   "execution_count": null,
   "metadata": {},
   "outputs": [
    {
     "name": "stdout",
     "output_type": "stream",
     "text": [
      "\n",
      "==========================================================\n",
      "Pull Kubernetes for x64 v1.20.2 Images from docker.io ......\n",
      "==========================================================\n",
      "\n"
     ]
    }
   ],
   "source": [
    "!./kubernetes-pull-hub-x64.sh"
   ]
  },
  {
   "cell_type": "code",
   "execution_count": null,
   "metadata": {},
   "outputs": [],
   "source": [
    "!../k8s-images-save.sh"
   ]
  },
  {
   "cell_type": "code",
   "execution_count": null,
   "metadata": {},
   "outputs": [],
   "source": []
  }
 ],
 "metadata": {
  "kernelspec": {
   "display_name": "Python 3",
   "language": "python",
   "name": "python3"
  },
  "language_info": {
   "codemirror_mode": {
    "name": "ipython",
    "version": 3
   },
   "file_extension": ".py",
   "mimetype": "text/x-python",
   "name": "python",
   "nbconvert_exporter": "python",
   "pygments_lexer": "ipython3",
   "version": "3.6.9"
  }
 },
 "nbformat": 4,
 "nbformat_minor": 4
}
