{
 "cells": [
  {
   "cell_type": "markdown",
   "metadata": {},
   "source": [
    "Argo project，包含argo workflow\\argo cd\\argo events\n",
    "\n",
    "- https://github.com/argoproj/argo-workflows \n",
    "- https://argoproj.github.io/projects/argo-cd \n",
    "- https://github.com/argoproj/argo-events "
   ]
  },
  {
   "cell_type": "markdown",
   "metadata": {},
   "source": [
    "下载客户端工具"
   ]
  },
  {
   "cell_type": "raw",
   "metadata": {},
   "source": [
    "%%sh\n",
    "\n",
    "# Download the binary\n",
    "curl -LO https://github.com/argoproj/argo/releases/download/v3.0.0-rc3/argo-linux-amd64.gz\n",
    "\n",
    "# Unzip\n",
    "gunzip argo-linux-amd64.gz\n",
    "\n",
    "# Make binary executable\n",
    "chmod +x argo-linux-amd64\n",
    "\n",
    "# Move binary to path\n",
    "mv ./argo-linux-amd64 /usr/local/bin/argo\n",
    "\n",
    "# Test installation\n",
    "argo version"
   ]
  },
  {
   "cell_type": "markdown",
   "metadata": {},
   "source": [
    "Argo Controller服务安装"
   ]
  },
  {
   "cell_type": "raw",
   "metadata": {},
   "source": [
    "kubectl create namespace argo\n",
    "#kubectl apply -n argo -f https://raw.githubusercontent.com/argoproj/argo/v3.0.0-rc3/manifests/install.yaml\n",
    "\n",
    "kubectl apply -n argo -f https://raw.githubusercontent.com/argoproj/argo-workflows/master/manifests/install.yaml"
   ]
  },
  {
   "cell_type": "raw",
   "metadata": {},
   "source": [
    "开启节点部署pod：\n",
    "安装完后，使用 kubectl get pod -n argo发现始终处于pending状态，需要开启master节点的任务部署。\n",
    "\n",
    "kubectl taint nodes --all node-role.kubernetes.io/master-"
   ]
  },
  {
   "cell_type": "code",
   "execution_count": 16,
   "metadata": {},
   "outputs": [
    {
     "name": "stdout",
     "output_type": "stream",
     "text": [
      "NAME                                     READY   STATUS              RESTARTS   AGE\n",
      "argo-server-6db64b5d8f-5649h             1/1     Running             0          21m\n",
      "argocd-application-controller-0          1/1     Running             0          5m28s\n",
      "argocd-dex-server-6cdc789f9f-p4qlq       1/1     Running             0          5m28s\n",
      "argocd-redis-66b48966cb-v64rr            1/1     Running             0          5m28s\n",
      "argocd-repo-server-5b4559f876-vj8jb      1/1     Running             0          5m28s\n",
      "argocd-server-5f569fd8cc-dm2tq           1/1     Running             0          5m28s\n",
      "ci-example-79k5c-1690747190              0/2     Pending             0          35h\n",
      "dag-diamond-97sr8-1669848046             0/2     Completed           0          35h\n",
      "dag-diamond-97sr8-1703403284             0/2     Completed           0          35h\n",
      "dag-diamond-97sr8-1720180903             0/2     Completed           0          35h\n",
      "dag-diamond-97sr8-1753736141             0/2     Completed           0          35h\n",
      "eventbus-controller-74545d99d6-42vf6     0/1     ContainerCreating   0          12s\n",
      "eventsource-controller-c9f9ff7b7-h75dc   0/1     ContainerCreating   0          12s\n",
      "forever                                  0/2     Completed           0          35h\n",
      "minio                                    1/1     Running             0          36h\n",
      "postgres-56fd897cf4-vmvnv                1/1     Running             0          36h\n",
      "sensor-controller-7766c5bc4b-9cq26       0/1     ContainerCreating   0          12s\n",
      "steps-t69rr-1281492811                   0/2     Completed           0          35h\n",
      "steps-t69rr-39211829                     0/2     Completed           0          35h\n",
      "steps-t69rr-4283846268                   0/2     Completed           0          35h\n",
      "workflow-controller-57c7c6c64f-vrx5g     1/1     Running             0          21m\n"
     ]
    }
   ],
   "source": [
    "!kubectl get pod -n argo"
   ]
  },
  {
   "cell_type": "code",
   "execution_count": 17,
   "metadata": {},
   "outputs": [
    {
     "name": "stdout",
     "output_type": "stream",
     "text": [
      "NAME                          TYPE        CLUSTER-IP       EXTERNAL-IP   PORT(S)                      AGE   SELECTOR\n",
      "argo-server                   NodePort    10.110.161.144   <none>        2746:30746/TCP               36h   app=argo-server\n",
      "argocd-dex-server             ClusterIP   10.97.93.147     <none>        5556/TCP,5557/TCP,5558/TCP   14m   app.kubernetes.io/name=argocd-dex-server\n",
      "argocd-metrics                ClusterIP   10.111.45.34     <none>        8082/TCP                     14m   app.kubernetes.io/name=argocd-application-controller\n",
      "argocd-redis                  ClusterIP   10.103.195.222   <none>        6379/TCP                     14m   app.kubernetes.io/name=argocd-redis\n",
      "argocd-repo-server            ClusterIP   10.101.223.164   <none>        8081/TCP,8084/TCP            14m   app.kubernetes.io/name=argocd-repo-server\n",
      "argocd-server                 ClusterIP   10.99.108.245    <none>        80/TCP,443/TCP               14m   app.kubernetes.io/name=argocd-server\n",
      "argocd-server-metrics         ClusterIP   10.105.224.208   <none>        8083/TCP                     14m   app.kubernetes.io/name=argocd-server\n",
      "minio                         ClusterIP   10.105.219.181   <none>        9000/TCP                     36h   app=minio\n",
      "postgres                      ClusterIP   10.108.218.208   <none>        5432/TCP                     36h   app=postgres\n",
      "workflow-controller-metrics   ClusterIP   10.96.49.140     <none>        9090/TCP                     36h   app=workflow-controller\n"
     ]
    }
   ],
   "source": [
    "!kubectl get svc -n argo -owide"
   ]
  },
  {
   "cell_type": "code",
   "execution_count": 7,
   "metadata": {},
   "outputs": [],
   "source": [
    "#!kubectl describe pod/workflow-controller-57c7c6c64f-vrx5g -n argo"
   ]
  },
  {
   "cell_type": "markdown",
   "metadata": {},
   "source": [
    "## Argo CD"
   ]
  },
  {
   "cell_type": "raw",
   "metadata": {},
   "source": [
    "kubectl create namespace argocd\n",
    "kubectl apply -n argocd -f https://raw.githubusercontent.com/argoproj/argo-cd/v1.8.6/manifests/install.yaml"
   ]
  },
  {
   "cell_type": "code",
   "execution_count": 13,
   "metadata": {},
   "outputs": [
    {
     "name": "stdout",
     "output_type": "stream",
     "text": [
      "No resources found in argocd namespace.\n"
     ]
    }
   ],
   "source": [
    "!kubectl get pod -n argocd"
   ]
  },
  {
   "cell_type": "raw",
   "metadata": {},
   "source": [
    "# Client\n",
    "wget https://github.com/argoproj/argo-cd/releases/download/v1.8.6/argocd-linux-amd64"
   ]
  }
 ],
 "metadata": {
  "kernelspec": {
   "display_name": "Python 3",
   "language": "python",
   "name": "python3"
  },
  "language_info": {
   "codemirror_mode": {
    "name": "ipython",
    "version": 3
   },
   "file_extension": ".py",
   "mimetype": "text/x-python",
   "name": "python",
   "nbconvert_exporter": "python",
   "pygments_lexer": "ipython3",
   "version": "3.6.9"
  }
 },
 "nbformat": 4,
 "nbformat_minor": 4
}
